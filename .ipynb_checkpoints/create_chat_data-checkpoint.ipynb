{
 "cells": [
  {
   "cell_type": "code",
   "execution_count": 37,
   "metadata": {},
   "outputs": [
    {
     "name": "stdout",
     "output_type": "stream",
     "text": [
      "17\n"
     ]
    }
   ],
   "source": [
    "import sqlite3\n",
    "import numpy as np\n",
    "import pandas as pd\n",
    "import pickle\n",
    "from collections import Counter\n",
    "\n",
    "datarange = ['2015-01']\n",
    "for timeframe in datarange:\n",
    "    connection = sqlite3.connect('./chatdata/{}.db'.format(timeframe))\n",
    "    c = connection.cursor()\n",
    "    limit = 5000\n",
    "    last_unix = 0\n",
    "    cur_length = limit\n",
    "    counter = 0\n",
    "    test_done = False\n",
    "    while cur_length == limit :\n",
    "        dataframe = pd.read_sql(\"SELECT * from parent_reply where unix > {} AND parent NOT NULL AND score > 2 ORDER BY unix ASC LIMIT {}\".format(last_unix,limit),connection)\n",
    "        last_unix = dataframe.tail(1)['unix'].values[0]\n",
    "        cur_length =  len(dataframe)\n",
    "        wordliststr=\"\"\n",
    "        if not test_done:\n",
    "            with open(\"./chatdata/{}test.from\".format(timeframe),'a',encoding='utf8') as f:\n",
    "                for content in dataframe['parent'].values:\n",
    "                    f.write(content+'\\n')\n",
    "                    wordliststr +=content\n",
    "\n",
    "            with open(\"./chatdata/{}test.to\".format(timeframe),'a',encoding='utf8') as f:\n",
    "                for content in dataframe['comment'].values:\n",
    "                    f.write(content+'\\n')\n",
    "                    wordliststr +=content\n",
    "\n",
    "            #for creating a test file in which parent and reply are in sequential order      \n",
    "            comList = dataframe['parent'].values\n",
    "            repList = dataframe['comment'].values\n",
    "            logdict={}\n",
    "            for i in range(len(comList)):\n",
    "                logdict[comList[i]] = repList[i]\n",
    "            np.save( \"./chatdata/comrepTest{}.npy\".format(timeframe), logdict)\n",
    "            \n",
    "            wordlistdict = Counter(wordliststr.split())\n",
    "            wordlist = list(wordlistdict.keys())\n",
    "            with open(\"wordlist.txt\",\"wb\")as fp:\n",
    "                pickle.dump(wordlist,fp)\n",
    "            \n",
    "            test_done = True\n",
    "            \n",
    "        else:\n",
    "            # training files in which from contains the comment and to contain the correspinding reply at corresponding line number\n",
    "            with open(\"./chatdata/{}train.from\".format(timeframe),'a',encoding='utf8') as f:\n",
    "                for content in dataframe['parent'].values:\n",
    "                    f.write(content+'\\n')\n",
    "                    wordliststr += content\n",
    "\n",
    "            with open(\"./chatdata/{}train.to\".format(timeframe),'a',encoding='utf8') as f:\n",
    "                for content in dataframe['comment'].values:\n",
    "                    f.write(content+'\\n')\n",
    "                    wordliststr += content\n",
    "\n",
    "              #for creating a training file in which parent and reply are in sequential order      \n",
    "            comList = dataframe['parent'].values\n",
    "            repList = dataframe['comment'].values\n",
    "            logdict={}\n",
    "            for i in range(len(comList)):\n",
    "                logdict[comList[i]] = repList[i]\n",
    "            np.save( \"./chatdata/comrepTrain{}.npy\".format(timeframe), logdict)\n",
    "            \n",
    "            wordlistdict = Counter(wordliststr.split())\n",
    "            wordlist = list(wordlistdict.keys())\n",
    "            with open(\"wordlist.txt\",\"wb\")as fp:\n",
    "                pickle.dump(wordlist,fp)\n",
    "            test_done = True \n",
    "\n",
    "        \n",
    "        counter+=1\n",
    "        \n",
    "        if counter%20 == 0 :\n",
    "            print(counter*limit,'rows completed so far')\n",
    "            \n",
    "            \n",
    "        \n",
    "        \n",
    "        \n",
    "        \n",
    "        "
   ]
  },
  {
   "cell_type": "code",
   "execution_count": null,
   "metadata": {},
   "outputs": [],
   "source": []
  },
  {
   "cell_type": "code",
   "execution_count": null,
   "metadata": {},
   "outputs": [],
   "source": []
  }
 ],
 "metadata": {
  "kernelspec": {
   "display_name": "Python 3",
   "language": "python",
   "name": "python3"
  },
  "language_info": {
   "codemirror_mode": {
    "name": "ipython",
    "version": 3
   },
   "file_extension": ".py",
   "mimetype": "text/x-python",
   "name": "python",
   "nbconvert_exporter": "python",
   "pygments_lexer": "ipython3",
   "version": "3.7.6"
  }
 },
 "nbformat": 4,
 "nbformat_minor": 4
}

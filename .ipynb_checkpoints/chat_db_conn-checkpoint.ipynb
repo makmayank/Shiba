{
 "cells": [
  {
   "cell_type": "code",
   "execution_count": null,
   "metadata": {},
   "outputs": [],
   "source": [
    "import sqlite3\n",
    "import json\n",
    "from datetime import datetime\n",
    "timeframe=\"2015-01\"\n",
    "sql_transaction=[]\n",
    "connection =sqlite3.connect('{}.db'.format(timeframe))\n",
    "c=connection.cursor()\n",
    "\n",
    "def create_table():\n",
    "\tc.execute(\"\"\"CREATE TABLE IF NOT EXISTS parent_reply (parent_id TEXT PRIMARY KEY,comment_id TEXT UNIQUE,parent TEXT,comment TEXT ,subreddit TEXT,unix INT,score INT)\"\"\")\n",
    "\n",
    "\n",
    "def format_data(data) :\n",
    "\tdata=data.replace(\"\\n\",\" newlinechar \").replace(\"\\r\",\" newlinechar \").replace('\"','')\n",
    "\treturn data\n",
    "print(\"It is running\")\n",
    "def find_parent(pid):\n",
    "\ttry :\n",
    "\t\tsql=\"SELECT comment FROM parent_reply WHERE comment_id='{}'LIMIT 1\".format(parent_id)\n",
    "\t\tc.execute(sql)\n",
    "\t\tresult=c.fetchone()\n",
    "\t\tif result!= None :\n",
    "\t\t\treturn result[0]\n",
    "\t\telse: \n",
    "\t\t\treturn False\n",
    "\texcept Exception as e:\n",
    "\t\t#print(\"find_parent\".,e)\n",
    "\t\treturn False\n",
    "\n",
    "\n",
    "if __name__==\"__main__\" :\n",
    "\tcreate_table()\n",
    "\trow_counter=0\n",
    "\tpaired_rows=0\n",
    "\n",
    "\twith open(\"K:/Lura/{}/RC_{}\".format(timeframe.split('-')[0],timeframe),buffering=10000) as f:\n",
    "\t\tfor row in f:\n",
    "\t\t#\tprint(row)\n",
    "\t\t\trow_counter +=1\n",
    "\t\t\trow=json.loads(row)\n",
    "            parent_id=row['parent_id']\n",
    "\t\t\tbody=format_data(row['body'])\n",
    "\t\t\tcreated_utc=row['created_utc']\n",
    "\t\t\tscore=row['score']\n",
    "\t\t\tsubreddit = row['subreddit']\n",
    "\n",
    "\t\t\tparent_data=find_parent(parent_id)\n",
    "\n",
    "\n",
    "\n"
   ]
  }
 ],
 "metadata": {
  "kernelspec": {
   "display_name": "Python 3",
   "language": "python",
   "name": "python3"
  },
  "language_info": {
   "codemirror_mode": {
    "name": "ipython",
    "version": 3
   },
   "file_extension": ".py",
   "mimetype": "text/x-python",
   "name": "python",
   "nbconvert_exporter": "python",
   "pygments_lexer": "ipython3",
   "version": "3.7.6"
  }
 },
 "nbformat": 4,
 "nbformat_minor": 4
}

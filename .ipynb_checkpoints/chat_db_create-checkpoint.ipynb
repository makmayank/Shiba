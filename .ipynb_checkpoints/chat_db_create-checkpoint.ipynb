{
 "cells": [
  {
   "cell_type": "code",
   "execution_count": null,
   "metadata": {},
   "outputs": [],
   "source": [
    "import sqlite3\n",
    "import json\n",
    "import datetime from datetime\n",
    "timeframe= '2016-09'\n",
    "sql_transaction = []\n",
    "connection = sqlite3.connect('{}.db'.format(timeframe))\n",
    "c = connection.cursor()\n",
    "\n",
    "def create_table():\n",
    "    c.execute(\"\"\"CREATE TABLE IF NOT EXISTS parent_reply(parent_id TEXT PRIMARY KEY ,\n",
    "    comment_id TEXT_UNIQUE, parent TEXT , subreddit TEXT , unix INT , score INT)\"\"\")\n",
    "def format_data(data):\n",
    "    data = data.replace(\"\\n\",\" newlinechar \").replace(\"\\r\",\" newlinechar \").replace('\"',\"'\")\n",
    "    return data\n",
    "def find_parent(pid):\n",
    "    try:\n",
    "        sql= \"SELECT comment FROM parent_reply WHERE comment_id = '{}' LIMIT 1\".format(pid)\n",
    "        c.execute(sql)\n",
    "        result = c.fetchone()\n",
    "        if result !=None:\n",
    "            return result[0]\n",
    "        else :\n",
    "            return False\n",
    "    except exception as e:\n",
    "        #print(\"find_parent\",e)\n",
    "        return e;\n",
    "\n",
    "\n",
    "if __name__ = \"__main__\":\n",
    "    create_table()\n",
    "    row_counter = 0\n",
    "    paired_rows = 0\n",
    "\n",
    "    with open(\"~/codu/chatdata/{}/RC_{}\".format(timeframe.split('-')[0],timeframe), buffering = 1000) as f:\n",
    "        for row in f:\n",
    "            print(row)\n",
    "            row_counter +=1\n",
    "            row = json.loads(row)\n",
    "            parent_id=row['parent_id']\n",
    "            body = format_data(row['body'])\n",
    "            created_utc = row['created_utc']\n",
    "            score = row['score']\n",
    "            subreddit = row['subreddit']\n",
    "\n",
    "            parent_data = find_parent(parent_id)\n",
    "\n",
    "\n",
    "                                                                                                           \n"
   ]
  }
 ],
 "metadata": {
  "kernelspec": {
   "display_name": "Python 3",
   "language": "python",
   "name": "python3"
  },
  "language_info": {
   "codemirror_mode": {
    "name": "ipython",
    "version": 3
   },
   "file_extension": ".py",
   "mimetype": "text/x-python",
   "name": "python",
   "nbconvert_exporter": "python",
   "pygments_lexer": "ipython3",
   "version": "3.7.6"
  }
 },
 "nbformat": 4,
 "nbformat_minor": 4
}
